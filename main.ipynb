{
 "cells": [
  {
   "cell_type": "code",
   "execution_count": null,
   "metadata": {},
   "outputs": [],
   "source": [
    "!pip install easyocr\n",
    "!pip install torch\n",
    "!pip install imutils\n",
    "!pip install numpy\n",
    "!pip install matplotlib\n",
    "!pip install opencv-python==4.5.5.64\n",
    "!pip install pylab"
   ]
  },
  {
   "cell_type": "code",
   "execution_count": 36,
   "metadata": {},
   "outputs": [],
   "source": [
    "import easyocr\n",
    "import torch\n",
    "import cv2\n",
    "import numpy as np\n",
    "# import imutils\n",
    "# from matplotlib import pyplot as plt\n",
    "from pylab import rcParams"
   ]
  },
  {
   "cell_type": "code",
   "execution_count": 91,
   "metadata": {},
   "outputs": [
    {
     "name": "stderr",
     "output_type": "stream",
     "text": [
      "CUDA not available - defaulting to CPU. Note: This module is much faster with a GPU.\n",
      "C:\\Users\\ekins\\AppData\\Local\\Packages\\PythonSoftwareFoundation.Python.3.9_qbz5n2kfra8p0\\LocalCache\\local-packages\\Python39\\site-packages\\torchvision\\models\\_utils.py:252: UserWarning: Accessing the model URLs via the internal dictionary of the module is deprecated since 0.13 and will be removed in 0.15. Please access them via the appropriate Weights Enum instead.\n",
      "  warnings.warn(\n",
      "C:\\Users\\ekins\\AppData\\Local\\Packages\\PythonSoftwareFoundation.Python.3.9_qbz5n2kfra8p0\\LocalCache\\local-packages\\Python39\\site-packages\\torchvision\\models\\_utils.py:208: UserWarning: The parameter 'pretrained' is deprecated since 0.13 and will be removed in 0.15, please use 'weights' instead.\n",
      "  warnings.warn(\n",
      "C:\\Users\\ekins\\AppData\\Local\\Packages\\PythonSoftwareFoundation.Python.3.9_qbz5n2kfra8p0\\LocalCache\\local-packages\\Python39\\site-packages\\torchvision\\models\\_utils.py:223: UserWarning: Arguments other than a weight enum or `None` for 'weights' are deprecated since 0.13 and will be removed in 0.15. The current behavior is equivalent to passing `weights=None`.\n",
      "  warnings.warn(msg)\n"
     ]
    },
    {
     "name": "stdout",
     "output_type": "stream",
     "text": [
      "Progress: |██████████████████████████████████████████████████████████████████████████████████████| 172.2% CompleteUP14 BD 3465\n"
     ]
    }
   ],
   "source": [
    "\n",
    "img = cv2.imread('cars.jpg', cv2.IMREAD_GRAYSCALE)\n",
    "\n",
    "# find the white rectangle\n",
    "th = img.copy()\n",
    "th[th<200] = 0\n",
    "\n",
    "bbox = np.where(th>0)\n",
    "y0 = bbox[0].min()\n",
    "y1 = bbox[0].max()\n",
    "x0 = bbox[1].min()\n",
    "x1 = bbox[1].max()\n",
    "# crop the region of interest (ROI)\n",
    "img = img[y0:y1, x0:x1]\n",
    "\n",
    "# histogram equalization\n",
    "# R, G, B = cv2.split(img)\n",
    "# output1_R = cv2.equalizeHist(R)\n",
    "# output1_G = cv2.equalizeHist(G)\n",
    "# output1_B = cv2.equalizeHist(B)\n",
    "\n",
    "# equ = cv2.merge((output1_R, output1_G, output1_B))\n",
    "# equ = cv2.equalizeHist(img)\n",
    "# Gaussian blur\n",
    "# blur = cv2.GaussianBlur(equ, (0, 0), cv2.BORDER_DEFAULT)\n",
    "#sharpening\n",
    "kernel = np.array([[0, -1, 0],\n",
    "                   [-1, 5,-1],\n",
    "                   [0, -1, 0]])\n",
    "image_sharp = cv2.filter2D(src=img, ddepth=-1, kernel=kernel)\n",
    "\n",
    "# manual thresholding\n",
    "th2 = 30 # this threshold might vary!\n",
    "image_sharp[image_sharp>=th2] = 255\n",
    "image_sharp[image_sharp<th2]  = 0\n",
    "\n",
    "# Now apply the OCR on the processed image\n",
    "rcParams['figure.figsize'] = 8, 16\n",
    "reader = easyocr.Reader(['en'])\n",
    "\n",
    "output = reader.readtext(image_sharp)\n",
    "\n",
    "for i in range(len(output)):\n",
    "    print(output[i][-2])"
   ]
  },
  {
   "cell_type": "markdown",
   "metadata": {},
   "source": []
  },
  {
   "cell_type": "code",
   "execution_count": 34,
   "metadata": {},
   "outputs": [
    {
     "name": "stderr",
     "output_type": "stream",
     "text": [
      "CUDA not available - defaulting to CPU. Note: This module is much faster with a GPU.\n",
      "C:\\Users\\ekins\\AppData\\Local\\Packages\\PythonSoftwareFoundation.Python.3.9_qbz5n2kfra8p0\\LocalCache\\local-packages\\Python39\\site-packages\\torchvision\\models\\_utils.py:252: UserWarning: Accessing the model URLs via the internal dictionary of the module is deprecated since 0.13 and will be removed in 0.15. Please access them via the appropriate Weights Enum instead.\n",
      "  warnings.warn(\n",
      "C:\\Users\\ekins\\AppData\\Local\\Packages\\PythonSoftwareFoundation.Python.3.9_qbz5n2kfra8p0\\LocalCache\\local-packages\\Python39\\site-packages\\torchvision\\models\\_utils.py:208: UserWarning: The parameter 'pretrained' is deprecated since 0.13 and will be removed in 0.15, please use 'weights' instead.\n",
      "  warnings.warn(\n",
      "C:\\Users\\ekins\\AppData\\Local\\Packages\\PythonSoftwareFoundation.Python.3.9_qbz5n2kfra8p0\\LocalCache\\local-packages\\Python39\\site-packages\\torchvision\\models\\_utils.py:223: UserWarning: Arguments other than a weight enum or `None` for 'weights' are deprecated since 0.13 and will be removed in 0.15. The current behavior is equivalent to passing `weights=None`.\n",
      "  warnings.warn(msg)\n"
     ]
    },
    {
     "name": "stdout",
     "output_type": "stream",
     "text": [
      "['SAVINGS', 'coROLLA', 'JN74043|']\n"
     ]
    }
   ],
   "source": [
    "\n",
    "print(read_plate('cars.jpg'))\n"
   ]
  }
 ],
 "metadata": {
  "kernelspec": {
   "display_name": "Python 3.9.13 64-bit (microsoft store)",
   "language": "python",
   "name": "python3"
  },
  "language_info": {
   "codemirror_mode": {
    "name": "ipython",
    "version": 3
   },
   "file_extension": ".py",
   "mimetype": "text/x-python",
   "name": "python",
   "nbconvert_exporter": "python",
   "pygments_lexer": "ipython3",
   "version": "3.9.13"
  },
  "orig_nbformat": 4,
  "vscode": {
   "interpreter": {
    "hash": "00a4d8b1d6bc5ede62cbb55d4f210ab20dac4dc8e4ea0203e4211f6e2647e2e0"
   }
  }
 },
 "nbformat": 4,
 "nbformat_minor": 2
}
